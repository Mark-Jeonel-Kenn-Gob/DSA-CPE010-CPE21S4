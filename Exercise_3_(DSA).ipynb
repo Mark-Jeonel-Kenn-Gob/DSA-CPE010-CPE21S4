{
  "nbformat": 4,
  "nbformat_minor": 0,
  "metadata": {
    "colab": {
      "provenance": [],
      "authorship_tag": "ABX9TyNBY4DRdcjjGcwowXTlwe2b",
      "include_colab_link": true
    },
    "kernelspec": {
      "name": "python3",
      "display_name": "Python 3"
    },
    "language_info": {
      "name": "python"
    }
  },
  "cells": [
    {
      "cell_type": "markdown",
      "metadata": {
        "id": "view-in-github",
        "colab_type": "text"
      },
      "source": [
        "<a href=\"https://colab.research.google.com/github/Mark-Jeonel-Kenn-Gob/DSA-CPE010-CPE21S4/blob/main/Exercise_3_(DSA).ipynb\" target=\"_parent\"><img src=\"https://colab.research.google.com/assets/colab-badge.svg\" alt=\"Open In Colab\"/></a>"
      ]
    },
    {
      "cell_type": "markdown",
      "source": [
        "#Area of a Circle"
      ],
      "metadata": {
        "id": "wkJof11v5W02"
      }
    },
    {
      "cell_type": "code",
      "source": [
        "#Using pre-defined pi value (3.1416) (Radius)\n",
        "\n",
        "def AreaCircle(r):\n",
        "  pi=3.1416\n",
        "  area=pi*r*r\n",
        "  return area\n",
        "\n",
        "print(\"The area of the circle is: \", AreaCircle(5))"
      ],
      "metadata": {
        "colab": {
          "base_uri": "https://localhost:8080/"
        },
        "id": "HjJ552-6u09A",
        "outputId": "3a6a35bc-0a30-41db-f74d-38412555cb5b"
      },
      "execution_count": null,
      "outputs": [
        {
          "output_type": "stream",
          "name": "stdout",
          "text": [
            "The area of the circle is:  78.54\n"
          ]
        }
      ]
    },
    {
      "cell_type": "code",
      "source": [
        "#Using pre-defined pi value (3.1416) (Diameter)\n",
        "\n",
        "def AreaCircle(d):\n",
        "  pi=3.1416\n",
        "  area=pi*(d/2)*(d/2)\n",
        "  return area\n",
        "\n",
        "print(\"The area of the circle is: \", AreaCircle(10))"
      ],
      "metadata": {
        "colab": {
          "base_uri": "https://localhost:8080/"
        },
        "id": "rhI_dRB0vcJD",
        "outputId": "45f8435a-de07-4365-fb25-8772143c80f3"
      },
      "execution_count": null,
      "outputs": [
        {
          "output_type": "stream",
          "name": "stdout",
          "text": [
            "The area of the circle is:  78.54\n"
          ]
        }
      ]
    },
    {
      "cell_type": "code",
      "source": [
        "#Computing for area of a circle if radius is asked (Using exact pi value with math library)\n",
        "\n",
        "import math\n",
        "\n",
        "radius = float(input(\"Enter the radius of the circle: \"))\n",
        "area = math.pi * radius ** 2\n",
        "\n",
        "print(\"The area of the circle is:\", area)"
      ],
      "metadata": {
        "colab": {
          "base_uri": "https://localhost:8080/"
        },
        "id": "clmUVhQrt7FC",
        "outputId": "41012884-1bc8-4efe-8d5f-e1bf4dc986bc"
      },
      "execution_count": null,
      "outputs": [
        {
          "output_type": "stream",
          "name": "stdout",
          "text": [
            "Enter the radius of the circle: 5\n",
            "The area of the circle is: 78.53981633974483\n"
          ]
        }
      ]
    },
    {
      "cell_type": "code",
      "source": [
        "#Computing for area of a circle if diameter is asked (Using exact pi value with math library)\n",
        "\n",
        "import math\n",
        "\n",
        "diameter = float(input(\"Enter the diameter of the circle: \"))\n",
        "radius = diameter / 2\n",
        "area = math.pi * radius ** 2\n",
        "\n",
        "print(\"The area of the circle is:\", area)"
      ],
      "metadata": {
        "colab": {
          "base_uri": "https://localhost:8080/"
        },
        "id": "hq68o5kpsFeK",
        "outputId": "b087ecda-fe13-4837-f520-5548d5fb5445"
      },
      "execution_count": null,
      "outputs": [
        {
          "output_type": "stream",
          "name": "stdout",
          "text": [
            "Enter the diameter of the circle: 25\n",
            "The area of the circle is: 490.8738521234052\n"
          ]
        }
      ]
    },
    {
      "cell_type": "markdown",
      "source": [
        "#Methods of Array"
      ],
      "metadata": {
        "id": "6-1LIthx5SPB"
      }
    },
    {
      "cell_type": "code",
      "source": [
        "#Accessing the Elements in the Array\n",
        "\n",
        "animals = [\"cat\", \"dog\", \"fish\"]\n",
        "x = animals[0]\n",
        "print(x)"
      ],
      "metadata": {
        "colab": {
          "base_uri": "https://localhost:8080/"
        },
        "id": "TBx_7X3pxwP3",
        "outputId": "353f18b6-40e8-471a-bd5e-97ea2bdd7037"
      },
      "execution_count": null,
      "outputs": [
        {
          "output_type": "stream",
          "name": "stdout",
          "text": [
            "cat\n"
          ]
        }
      ]
    },
    {
      "cell_type": "code",
      "execution_count": null,
      "metadata": {
        "colab": {
          "base_uri": "https://localhost:8080/"
        },
        "id": "YipYQxtpwg8a",
        "outputId": "c7a2629c-374a-4a53-eec8-04b0981526ec"
      },
      "outputs": [
        {
          "output_type": "stream",
          "name": "stdout",
          "text": [
            "['monkey', 'dog', 'fish']\n"
          ]
        }
      ],
      "source": [
        "#Modifying Elements in the Array\n",
        "\n",
        "animals = [\"cat\", \"dog\", \"fish\"]\n",
        "animals[0] = \"monkey\"\n",
        "print(animals)"
      ]
    },
    {
      "cell_type": "code",
      "source": [
        "#Length of the Array\n",
        "\n",
        "animals = [\"monkey\", \"dog\", \"fish\"]\n",
        "x = len(animals)\n",
        "print(x)"
      ],
      "metadata": {
        "colab": {
          "base_uri": "https://localhost:8080/"
        },
        "id": "WhOhNghbx-lo",
        "outputId": "6f9cd9e0-4187-4608-9e0f-844afd2a15d1"
      },
      "execution_count": null,
      "outputs": [
        {
          "output_type": "stream",
          "name": "stdout",
          "text": [
            "3\n"
          ]
        }
      ]
    },
    {
      "cell_type": "code",
      "source": [
        "#Looping Array Elements\n",
        "\n",
        "animals = [\"monkey\", \"cat\", \"dog\", \"fish\"]\n",
        "for x in animals:\n",
        "  print(x)"
      ],
      "metadata": {
        "colab": {
          "base_uri": "https://localhost:8080/"
        },
        "id": "DHqiHXpdyZDT",
        "outputId": "4480bca8-6dd5-402e-f0d9-235084297c71"
      },
      "execution_count": null,
      "outputs": [
        {
          "output_type": "stream",
          "name": "stdout",
          "text": [
            "monkey\n",
            "cat\n",
            "dog\n",
            "fish\n"
          ]
        }
      ]
    },
    {
      "cell_type": "code",
      "source": [
        "#Adding Item in the Animals\n",
        "\n",
        "animals = [\"monkey\", \"cat\", \"dog\", \"fish\"]\n",
        "animals.append(\"bird\")\n",
        "print(animals)"
      ],
      "metadata": {
        "colab": {
          "base_uri": "https://localhost:8080/"
        },
        "id": "MAojxWImy1AG",
        "outputId": "3a55e425-4b04-4be1-9fe8-90663ce9fd4b"
      },
      "execution_count": null,
      "outputs": [
        {
          "output_type": "stream",
          "name": "stdout",
          "text": [
            "['monkey', 'cat', 'dog', 'fish', 'bird']\n"
          ]
        }
      ]
    },
    {
      "cell_type": "code",
      "source": [
        "#Remove an Item in the Array List\n",
        "\n",
        "animals = [\"monkey\", \"cat\", \"dog\", \"fish\"]\n",
        "animals.pop(2)\n",
        "print(animals)"
      ],
      "metadata": {
        "colab": {
          "base_uri": "https://localhost:8080/"
        },
        "id": "FR8bsdrzzmyl",
        "outputId": "46b01c57-0ecf-403e-bac7-cc73a1ac1d10"
      },
      "execution_count": null,
      "outputs": [
        {
          "output_type": "stream",
          "name": "stdout",
          "text": [
            "['monkey', 'cat', 'fish']\n"
          ]
        }
      ]
    },
    {
      "cell_type": "code",
      "source": [
        "#Inserting an Animal in a Specific Location using insert()\n",
        "\n",
        "animals = [\"monkey\", \"cat\", \"dog\", \"fish\"]\n",
        "animals.insert(1, \"bird\")\n",
        "print(animals)"
      ],
      "metadata": {
        "colab": {
          "base_uri": "https://localhost:8080/"
        },
        "id": "avmpzVTZ0edH",
        "outputId": "a77f6624-dd1c-46f3-cf9e-d86e3906c5b9"
      },
      "execution_count": null,
      "outputs": [
        {
          "output_type": "stream",
          "name": "stdout",
          "text": [
            "['monkey', 'bird', 'cat', 'dog', 'fish']\n"
          ]
        }
      ]
    },
    {
      "cell_type": "code",
      "source": [
        "#Remove the Item in the Specified Index Value using remove()\n",
        "\n",
        "animals = [\"monkey\", \"cat\", \"dog\", \"fish\"]\n",
        "animals.remove(\"dog\")\n",
        "print(animals)\n"
      ],
      "metadata": {
        "colab": {
          "base_uri": "https://localhost:8080/"
        },
        "id": "da3E2-jI1Bga",
        "outputId": "01cdae12-1231-4532-c582-37914f5c01f6"
      },
      "execution_count": null,
      "outputs": [
        {
          "output_type": "stream",
          "name": "stdout",
          "text": [
            "['monkey', 'cat', 'fish']\n"
          ]
        }
      ]
    },
    {
      "cell_type": "code",
      "source": [
        "#Reverse all Items in the List\n",
        "\n",
        "animals = [\"monkey\", \"cat\", \"dog\", \"fish\"]\n",
        "animals.reverse()\n",
        "print(animals)"
      ],
      "metadata": {
        "colab": {
          "base_uri": "https://localhost:8080/"
        },
        "id": "wbnduo0V0HBz",
        "outputId": "9dfa7a8b-9145-46c1-ebb1-df5c20c6e26c"
      },
      "execution_count": null,
      "outputs": [
        {
          "output_type": "stream",
          "name": "stdout",
          "text": [
            "['fish', 'dog', 'cat', 'monkey']\n"
          ]
        }
      ]
    }
  ]
}