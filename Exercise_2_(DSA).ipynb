{
  "nbformat": 4,
  "nbformat_minor": 0,
  "metadata": {
    "colab": {
      "provenance": [],
      "authorship_tag": "ABX9TyP0EwjL7+9fprjNkkj7rRrp",
      "include_colab_link": true
    },
    "kernelspec": {
      "name": "python3",
      "display_name": "Python 3"
    },
    "language_info": {
      "name": "python"
    }
  },
  "cells": [
    {
      "cell_type": "markdown",
      "metadata": {
        "id": "view-in-github",
        "colab_type": "text"
      },
      "source": [
        "<a href=\"https://colab.research.google.com/github/jeonnel/DSA-CPE010-CPE21S4/blob/main/Exercise_2_(DSA).ipynb\" target=\"_parent\"><img src=\"https://colab.research.google.com/assets/colab-badge.svg\" alt=\"Open In Colab\"/></a>"
      ]
    },
    {
      "cell_type": "markdown",
      "source": [
        "#Exercise 2 (DSA)"
      ],
      "metadata": {
        "id": "aSCJfO78CjAv"
      }
    },
    {
      "cell_type": "code",
      "execution_count": 31,
      "metadata": {
        "colab": {
          "base_uri": "https://localhost:8080/"
        },
        "id": "wvvcAgxG5HE7",
        "outputId": "6a9fe143-359f-42b4-aeea-78a3ad635c41"
      },
      "outputs": [
        {
          "output_type": "stream",
          "name": "stdout",
          "text": [
            "The computed area of the rectangle with a length of  21  and a width of  12  is  252\n",
            "The computed area of the square with a side length of  14  is  196\n",
            "The computed area of the triangle with a base of  3  and a height of  4  is  6.0\n"
          ]
        }
      ],
      "source": [
        "class Shapes():\n",
        "\n",
        "  class Rectangle():\n",
        "    def __init__(self, length, width):\n",
        "      self.length = length\n",
        "      self.width = width\n",
        "\n",
        "    def Area_Rectangle(self):\n",
        "     return self.length * self.width\n",
        "\n",
        "  class Square():\n",
        "    def __init__(self, side):\n",
        "      self.side = side\n",
        "\n",
        "    def Area_Square(self):\n",
        "      return self.side ** 2\n",
        "\n",
        "  class Triangle():\n",
        "    def __init__(self, base, height):\n",
        "      self.base = base\n",
        "      self.height = height\n",
        "\n",
        "    def Area_Triangle(self):\n",
        "      return 0.5 * self.base * self.height\n",
        "\n",
        "rectangle = Shapes.Rectangle(21, 12)\n",
        "print(\"The computed area of the rectangle with a length of \", rectangle.length, \" and a width of \", rectangle.width, \" is \", rectangle.Area_Rectangle())\n",
        "\n",
        "square = Shapes.Square(14)\n",
        "print(\"The computed area of the square with a side length of \", square.side, \" is \", square.Area_Square())\n",
        "\n",
        "triangle = Shapes.Triangle(3,4)\n",
        "print(\"The computed area of the triangle with a base of \", triangle.base, \" and a height of \", triangle.height, \" is \", triangle.Area_Triangle())"
      ]
    }
  ]
}