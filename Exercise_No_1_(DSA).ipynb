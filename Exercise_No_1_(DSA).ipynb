{
  "nbformat": 4,
  "nbformat_minor": 0,
  "metadata": {
    "colab": {
      "provenance": [],
      "authorship_tag": "ABX9TyNy6Y0xp638J5RaUqylxKYy",
      "include_colab_link": true
    },
    "kernelspec": {
      "name": "python3",
      "display_name": "Python 3"
    },
    "language_info": {
      "name": "python"
    }
  },
  "cells": [
    {
      "cell_type": "markdown",
      "metadata": {
        "id": "view-in-github",
        "colab_type": "text"
      },
      "source": [
        "<a href=\"https://colab.research.google.com/github/jeonnel/DSA-CPE010-CPE21S4/blob/main/Exercise_No_1_(DSA).ipynb\" target=\"_parent\"><img src=\"https://colab.research.google.com/assets/colab-badge.svg\" alt=\"Open In Colab\"/></a>"
      ]
    },
    {
      "cell_type": "markdown",
      "source": [
        "#Exercise 1 (Class Constructor and Method)"
      ],
      "metadata": {
        "id": "C7eBkueNnIXm"
      }
    },
    {
      "cell_type": "markdown",
      "source": [
        "Instructions:\n",
        "1. Develop a Python program that computes the area of a Rectangle shape.\n",
        "2. Use Rectangle () as a class name.\n",
        "3. Use attributes length and width\n",
        "4. Calculate the Area() of the rectangle.\n",
        "5. Display the computed area of a rectangle.\n",
        "*Note: OOP concepts of computing the area of a rectangle*"
      ],
      "metadata": {
        "id": "2ju6GADInP9O"
      }
    },
    {
      "cell_type": "code",
      "source": [
        "#Without user input\n",
        "\n",
        "class Rectangle():\n",
        "\n",
        "  def __init__(shape, length, width):\n",
        "    shape.length = length\n",
        "    shape.width = width\n",
        "\n",
        "  def Area(shape):\n",
        "    return shape.length * shape.width\n",
        "\n",
        "rect = Rectangle(21, 12)\n",
        "print(\"The computed area of the rectangle with a length of \", rect.length, \" and a width of \", rect.width, \" is \", rect.Area())"
      ],
      "metadata": {
        "colab": {
          "base_uri": "https://localhost:8080/"
        },
        "id": "XGkv3noDoGRF",
        "outputId": "e08d66f9-360c-4f86-f3d1-26b05663d191"
      },
      "execution_count": null,
      "outputs": [
        {
          "output_type": "stream",
          "name": "stdout",
          "text": [
            "The computed area of the rectangle with a length of  21  and a width of  12  is  252\n"
          ]
        }
      ]
    },
    {
      "cell_type": "code",
      "source": [
        "#With user input\n",
        "\n",
        "class Rectangle():\n",
        "\n",
        "  def __init__(shape, length, width):\n",
        "    shape.length = length\n",
        "    shape.width = width\n",
        "\n",
        "  def Area(shape):\n",
        "    return shape.length * shape.width\n",
        "\n",
        "input_length = float(input(\"Enter length of the rectangle: \"))\n",
        "input_width = float(input(\"Enter width of the rectangle: \"))\n",
        "\n",
        "rect = Rectangle(input_length,input_width)\n",
        "print(\"The computed area of the rectangle with a length of \", rect.length, \" and a width of \", rect.width, \" is \", rect.Area())"
      ],
      "metadata": {
        "id": "F-u-sMTrqzbO",
        "colab": {
          "base_uri": "https://localhost:8080/"
        },
        "outputId": "650454dd-1d2a-4cb7-afab-9f257bb21e74"
      },
      "execution_count": 19,
      "outputs": [
        {
          "output_type": "stream",
          "name": "stdout",
          "text": [
            "Enter length of the rectangle: 21\n",
            "Enter width of the rectangle: 12\n",
            "The computed area of the rectangle with a length of  21.0  and a width of  12.0  is  252.0\n"
          ]
        }
      ]
    }
  ]
}